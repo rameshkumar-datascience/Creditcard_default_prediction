{
 "cells": [
  {
   "cell_type": "markdown",
   "metadata": {},
   "source": [
    "<h3>Current model metrics:</h3>"
   ]
  },
  {
   "cell_type": "markdown",
   "metadata": {},
   "source": [
    "<h5>Logistic Regression</h5>"
   ]
  },
  {
   "cell_type": "code",
   "execution_count": null,
   "metadata": {},
   "outputs": [],
   "source": [
    "Train_accuracy: 0.81\n",
    "Test_accuracy:  0.809\n",
    "Model_accuracy: 0.81\n",
    "difference between train,test accuracy: 0.001"
   ]
  },
  {
   "cell_type": "markdown",
   "metadata": {},
   "source": [
    "<h5>Desicion tree classifier</h5>"
   ]
  },
  {
   "cell_type": "code",
   "execution_count": null,
   "metadata": {},
   "outputs": [],
   "source": [
    "Train_accuracy: 0.919\n",
    "Test_accuracy:  0.749\n",
    "Model_accuracy: 0.83\n",
    "difference between train,test accuracy: 0.17"
   ]
  },
  {
   "cell_type": "markdown",
   "metadata": {},
   "source": [
    "<h5>Random forest classifer</h5>"
   ]
  },
  {
   "cell_type": "code",
   "execution_count": null,
   "metadata": {},
   "outputs": [],
   "source": [
    "Train_accuracy: 0.896\n",
    "Test_accuracy:  0.817\n",
    "Model_accuracy: 0.857\n",
    "difference between train,test accuracy: 0.079"
   ]
  },
  {
   "cell_type": "markdown",
   "metadata": {},
   "source": [
    "<h3>Best model</h3>\n",
    "<h5>Logistic Regression</h5>\n",
    "<h7>We got this model because it is having less difference between train, test accuracy thats why we picked this as best model</h7>"
   ]
  },
  {
   "cell_type": "code",
   "execution_count": null,
   "metadata": {},
   "outputs": [],
   "source": []
  }
 ],
 "metadata": {
  "kernelspec": {
   "display_name": "Python 3.7.0 (conda)",
   "language": "python",
   "name": "python3"
  },
  "language_info": {
   "codemirror_mode": {
    "name": "ipython",
    "version": 3
   },
   "file_extension": ".py",
   "mimetype": "text/x-python",
   "name": "python",
   "nbconvert_exporter": "python",
   "pygments_lexer": "ipython3",
   "version": "3.7.0"
  },
  "orig_nbformat": 4,
  "vscode": {
   "interpreter": {
    "hash": "8af8ec1612c7a243de83dd7b288ecba9a2d9c439a6080c07e85955bf97c8517a"
   }
  }
 },
 "nbformat": 4,
 "nbformat_minor": 2
}
