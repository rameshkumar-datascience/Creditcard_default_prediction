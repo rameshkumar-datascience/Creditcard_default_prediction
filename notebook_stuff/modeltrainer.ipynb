{
 "cells": [
  {
   "cell_type": "code",
   "execution_count": 1,
   "metadata": {},
   "outputs": [],
   "source": [
    "import os"
   ]
  },
  {
   "cell_type": "code",
   "execution_count": 2,
   "metadata": {},
   "outputs": [
    {
     "data": {
      "text/plain": [
       "'c:\\\\Users\\\\Ramesh Kumar\\\\Jupter Home\\\\INeuron\\\\Machine Learning\\\\End to End projects\\\\Creditcard_default_prediction\\\\notebook_stuff'"
      ]
     },
     "execution_count": 2,
     "metadata": {},
     "output_type": "execute_result"
    }
   ],
   "source": [
    "os.getcwd()"
   ]
  },
  {
   "cell_type": "code",
   "execution_count": 3,
   "metadata": {},
   "outputs": [],
   "source": [
    "path = r'c:\\\\Users\\\\Ramesh Kumar\\\\Jupter Home\\\\INeuron\\\\Machine Learning\\\\End to End projects\\\\Creditcard_default_prediction\\\\config_info\\\\model.yaml'"
   ]
  },
  {
   "cell_type": "code",
   "execution_count": 10,
   "metadata": {},
   "outputs": [],
   "source": [
    "from creditcard.util.util import read_yaml_file"
   ]
  },
  {
   "cell_type": "code",
   "execution_count": 11,
   "metadata": {},
   "outputs": [
    {
     "data": {
      "text/plain": [
       "{'grid_search': {'class': 'GridSearchCV',\n",
       "  'module': 'sklearn.model_selection',\n",
       "  'params': {'cv': 5, 'verbose': 2}},\n",
       " 'model_selection': {'module_0': {'class': 'LogisticRegression',\n",
       "   'module': 'sklearn.linear_model',\n",
       "   'params': {'penalty': 'l2', 'C': 1.0, 'fit_intercept': True},\n",
       "   'search_param_grid': {'penalty': ['l1', 'elasticnet'],\n",
       "    'C': [5.0, 7.0, 10, 20, 40],\n",
       "    'fit_intercept': [True, False]}},\n",
       "  'module_1': {'class': 'DecisionTreeClassifier',\n",
       "   'module': 'sklearn.tree',\n",
       "   'params': {'criterion': 'entropy', 'min_samples_leaf': 3},\n",
       "   'search_param_grid': {'min_samples_leaf': [6, 8, 9],\n",
       "    'criterion': ['gini', 'log_loss']}},\n",
       "  'module_2': {'class': 'RandomForestClassifier',\n",
       "   'module': 'sklearn.ensemble',\n",
       "   'params': {'criterion': 'entropy', 'min_samples_leaf': 3},\n",
       "   'search_param_grid': {'min_samples_leaf': [6, 8, 9],\n",
       "    'criterion': ['gini', 'log_loss']}}}}"
      ]
     },
     "execution_count": 11,
     "metadata": {},
     "output_type": "execute_result"
    }
   ],
   "source": [
    "read_yaml_file(file_path=path)"
   ]
  },
  {
   "cell_type": "code",
   "execution_count": null,
   "metadata": {},
   "outputs": [],
   "source": []
  }
 ],
 "metadata": {
  "kernelspec": {
   "display_name": "Python 3.7.0 (conda)",
   "language": "python",
   "name": "python3"
  },
  "language_info": {
   "codemirror_mode": {
    "name": "ipython",
    "version": 3
   },
   "file_extension": ".py",
   "mimetype": "text/x-python",
   "name": "python",
   "nbconvert_exporter": "python",
   "pygments_lexer": "ipython3",
   "version": "3.7.0"
  },
  "orig_nbformat": 4,
  "vscode": {
   "interpreter": {
    "hash": "8af8ec1612c7a243de83dd7b288ecba9a2d9c439a6080c07e85955bf97c8517a"
   }
  }
 },
 "nbformat": 4,
 "nbformat_minor": 2
}
