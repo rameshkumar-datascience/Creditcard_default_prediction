{
 "cells": [
  {
   "cell_type": "code",
   "execution_count": 1,
   "metadata": {},
   "outputs": [],
   "source": [
    "from sklearn.pipeline import Pipeline\n",
    "from sklearn.impute import SimpleImputer\n",
    "from sklearn.preprocessing import StandardScaler\n",
    "from sklearn.compose import ColumnTransformer\n",
    "import numpy as np\n",
    "from creditcard.util.util import read_yaml_file\n",
    "from creditcard.contants import *"
   ]
  },
  {
   "cell_type": "code",
   "execution_count": 2,
   "metadata": {},
   "outputs": [],
   "source": [
    "impute=SimpleImputer(missing_values=np.nan, strategy='mean')"
   ]
  },
  {
   "cell_type": "code",
   "execution_count": 3,
   "metadata": {},
   "outputs": [
    {
     "data": {
      "text/plain": [
       "SimpleImputer()"
      ]
     },
     "execution_count": 3,
     "metadata": {},
     "output_type": "execute_result"
    }
   ],
   "source": [
    "impute.fit([[7, 2, 3], [4, np.nan, 6], [10, 5, 9]])"
   ]
  },
  {
   "cell_type": "code",
   "execution_count": 4,
   "metadata": {},
   "outputs": [],
   "source": [
    "X = [[np.nan, 2, 3], [4, np.nan, 6], [10, np.nan, 9]]"
   ]
  },
  {
   "cell_type": "code",
   "execution_count": 5,
   "metadata": {},
   "outputs": [
    {
     "name": "stdout",
     "output_type": "stream",
     "text": [
      "[[ 7.   2.   3. ]\n",
      " [ 4.   3.5  6. ]\n",
      " [10.   3.5  9. ]]\n"
     ]
    }
   ],
   "source": [
    "print(impute.transform(X))"
   ]
  },
  {
   "cell_type": "code",
   "execution_count": 6,
   "metadata": {},
   "outputs": [],
   "source": [
    "X=impute.transform(X)"
   ]
  },
  {
   "cell_type": "code",
   "execution_count": 34,
   "metadata": {},
   "outputs": [],
   "source": [
    "path=r'C:\\Users\\Ramesh Kumar\\Jupter Home\\INeuron\\Machine Learning\\End to End projects\\Creditcard_default_prediction\\config_info\\schema.yaml'"
   ]
  },
  {
   "cell_type": "code",
   "execution_count": 35,
   "metadata": {},
   "outputs": [],
   "source": [
    "schema=read_yaml_file(file_path=path)"
   ]
  },
  {
   "cell_type": "code",
   "execution_count": 38,
   "metadata": {},
   "outputs": [],
   "source": [
    "num_cols=schema[NUMERICAL_COLUMN_KEY]"
   ]
  },
  {
   "cell_type": "code",
   "execution_count": 39,
   "metadata": {},
   "outputs": [],
   "source": [
    "num_pipe = Pipeline(steps=[\n",
    "    ('impute',SimpleImputer(strategy='mean')),\n",
    "    ('scaler',StandardScaler())\n",
    "])"
   ]
  },
  {
   "cell_type": "code",
   "execution_count": 40,
   "metadata": {},
   "outputs": [],
   "source": [
    "preprocessorobj=ColumnTransformer([('num_pipe',num_pipe,num_cols1)])"
   ]
  },
  {
   "cell_type": "code",
   "execution_count": 41,
   "metadata": {},
   "outputs": [
    {
     "name": "stdout",
     "output_type": "stream",
     "text": [
      "ColumnTransformer(transformers=[('num_pipe',\n",
      "                                 Pipeline(steps=[('impute', SimpleImputer()),\n",
      "                                                 ('scaler', StandardScaler())]),\n",
      "                                 ['ID', 'LIMIT_BAL', 'SEX', 'EDUCATION',\n",
      "                                  'MARRIAGE', 'AGE', 'PAY_0', 'PAY_2', 'PAY_3',\n",
      "                                  'PAY_4', 'PAY_5', 'PAY_6', 'BILL_AMT1',\n",
      "                                  'BILL_AMT2', 'BILL_AMT3', 'BILL_AMT4',\n",
      "                                  'BILL_AMT5', 'BILL_AMT6', 'PAY_AMT1',\n",
      "                                  'PAY_AMT2', 'PAY_AMT3', 'PAY_AMT4',\n",
      "                                  'PAY_AMT5', 'PAY_AMT6',\n",
      "                                  'default.payment.next.month'])])\n"
     ]
    }
   ],
   "source": [
    "print(preprocessorobj)"
   ]
  },
  {
   "cell_type": "code",
   "execution_count": 42,
   "metadata": {},
   "outputs": [],
   "source": [
    "dfpath=r'C:\\Users\\Ramesh Kumar\\Jupter Home\\INeuron\\Machine Learning\\End to End projects\\Creditcard_default_prediction\\creditcard\\artifact\\data_ingestion\\20-07-2022_16-09-26\\ingested_data\\test\\creditcard.csv'"
   ]
  },
  {
   "cell_type": "code",
   "execution_count": 43,
   "metadata": {},
   "outputs": [],
   "source": [
    "import pandas as pd\n",
    "df = pd.read_csv(dfpath)"
   ]
  },
  {
   "cell_type": "code",
   "execution_count": 44,
   "metadata": {},
   "outputs": [
    {
     "data": {
      "text/html": [
       "<div>\n",
       "<style scoped>\n",
       "    .dataframe tbody tr th:only-of-type {\n",
       "        vertical-align: middle;\n",
       "    }\n",
       "\n",
       "    .dataframe tbody tr th {\n",
       "        vertical-align: top;\n",
       "    }\n",
       "\n",
       "    .dataframe thead th {\n",
       "        text-align: right;\n",
       "    }\n",
       "</style>\n",
       "<table border=\"1\" class=\"dataframe\">\n",
       "  <thead>\n",
       "    <tr style=\"text-align: right;\">\n",
       "      <th></th>\n",
       "      <th>ID</th>\n",
       "      <th>LIMIT_BAL</th>\n",
       "      <th>SEX</th>\n",
       "      <th>EDUCATION</th>\n",
       "      <th>MARRIAGE</th>\n",
       "      <th>AGE</th>\n",
       "      <th>PAY_0</th>\n",
       "      <th>PAY_2</th>\n",
       "      <th>PAY_3</th>\n",
       "      <th>PAY_4</th>\n",
       "      <th>...</th>\n",
       "      <th>BILL_AMT4</th>\n",
       "      <th>BILL_AMT5</th>\n",
       "      <th>BILL_AMT6</th>\n",
       "      <th>PAY_AMT1</th>\n",
       "      <th>PAY_AMT2</th>\n",
       "      <th>PAY_AMT3</th>\n",
       "      <th>PAY_AMT4</th>\n",
       "      <th>PAY_AMT5</th>\n",
       "      <th>PAY_AMT6</th>\n",
       "      <th>default.payment.next.month</th>\n",
       "    </tr>\n",
       "  </thead>\n",
       "  <tbody>\n",
       "    <tr>\n",
       "      <th>0</th>\n",
       "      <td>5470</td>\n",
       "      <td>200000.0</td>\n",
       "      <td>2</td>\n",
       "      <td>3</td>\n",
       "      <td>1</td>\n",
       "      <td>30</td>\n",
       "      <td>-1</td>\n",
       "      <td>-1</td>\n",
       "      <td>2</td>\n",
       "      <td>-1</td>\n",
       "      <td>...</td>\n",
       "      <td>740.0</td>\n",
       "      <td>890.0</td>\n",
       "      <td>740.0</td>\n",
       "      <td>1100.0</td>\n",
       "      <td>0.0</td>\n",
       "      <td>740.0</td>\n",
       "      <td>890.0</td>\n",
       "      <td>740.0</td>\n",
       "      <td>740.0</td>\n",
       "      <td>0</td>\n",
       "    </tr>\n",
       "    <tr>\n",
       "      <th>1</th>\n",
       "      <td>17053</td>\n",
       "      <td>70000.0</td>\n",
       "      <td>2</td>\n",
       "      <td>3</td>\n",
       "      <td>2</td>\n",
       "      <td>25</td>\n",
       "      <td>2</td>\n",
       "      <td>0</td>\n",
       "      <td>0</td>\n",
       "      <td>0</td>\n",
       "      <td>...</td>\n",
       "      <td>70823.0</td>\n",
       "      <td>71006.0</td>\n",
       "      <td>70828.0</td>\n",
       "      <td>2527.0</td>\n",
       "      <td>2615.0</td>\n",
       "      <td>2500.0</td>\n",
       "      <td>3000.0</td>\n",
       "      <td>2600.0</td>\n",
       "      <td>3000.0</td>\n",
       "      <td>1</td>\n",
       "    </tr>\n",
       "    <tr>\n",
       "      <th>2</th>\n",
       "      <td>23412</td>\n",
       "      <td>180000.0</td>\n",
       "      <td>2</td>\n",
       "      <td>2</td>\n",
       "      <td>2</td>\n",
       "      <td>30</td>\n",
       "      <td>0</td>\n",
       "      <td>0</td>\n",
       "      <td>0</td>\n",
       "      <td>0</td>\n",
       "      <td>...</td>\n",
       "      <td>175557.0</td>\n",
       "      <td>178010.0</td>\n",
       "      <td>178976.0</td>\n",
       "      <td>7000.0</td>\n",
       "      <td>8000.0</td>\n",
       "      <td>8000.0</td>\n",
       "      <td>7001.0</td>\n",
       "      <td>6600.0</td>\n",
       "      <td>7000.0</td>\n",
       "      <td>0</td>\n",
       "    </tr>\n",
       "    <tr>\n",
       "      <th>3</th>\n",
       "      <td>8135</td>\n",
       "      <td>50000.0</td>\n",
       "      <td>2</td>\n",
       "      <td>3</td>\n",
       "      <td>1</td>\n",
       "      <td>35</td>\n",
       "      <td>2</td>\n",
       "      <td>2</td>\n",
       "      <td>2</td>\n",
       "      <td>2</td>\n",
       "      <td>...</td>\n",
       "      <td>21826.0</td>\n",
       "      <td>10208.0</td>\n",
       "      <td>10100.0</td>\n",
       "      <td>2200.0</td>\n",
       "      <td>568.0</td>\n",
       "      <td>0.0</td>\n",
       "      <td>516.0</td>\n",
       "      <td>400.0</td>\n",
       "      <td>300.0</td>\n",
       "      <td>1</td>\n",
       "    </tr>\n",
       "    <tr>\n",
       "      <th>4</th>\n",
       "      <td>19234</td>\n",
       "      <td>30000.0</td>\n",
       "      <td>2</td>\n",
       "      <td>5</td>\n",
       "      <td>2</td>\n",
       "      <td>45</td>\n",
       "      <td>2</td>\n",
       "      <td>0</td>\n",
       "      <td>0</td>\n",
       "      <td>0</td>\n",
       "      <td>...</td>\n",
       "      <td>30480.0</td>\n",
       "      <td>31124.0</td>\n",
       "      <td>29333.0</td>\n",
       "      <td>2000.0</td>\n",
       "      <td>1600.0</td>\n",
       "      <td>1500.0</td>\n",
       "      <td>1100.0</td>\n",
       "      <td>1053.0</td>\n",
       "      <td>1320.0</td>\n",
       "      <td>1</td>\n",
       "    </tr>\n",
       "  </tbody>\n",
       "</table>\n",
       "<p>5 rows × 25 columns</p>\n",
       "</div>"
      ],
      "text/plain": [
       "      ID  LIMIT_BAL  SEX  EDUCATION  MARRIAGE  AGE  PAY_0  PAY_2  PAY_3  \\\n",
       "0   5470   200000.0    2          3         1   30     -1     -1      2   \n",
       "1  17053    70000.0    2          3         2   25      2      0      0   \n",
       "2  23412   180000.0    2          2         2   30      0      0      0   \n",
       "3   8135    50000.0    2          3         1   35      2      2      2   \n",
       "4  19234    30000.0    2          5         2   45      2      0      0   \n",
       "\n",
       "   PAY_4  ...  BILL_AMT4  BILL_AMT5  BILL_AMT6  PAY_AMT1  PAY_AMT2  PAY_AMT3  \\\n",
       "0     -1  ...      740.0      890.0      740.0    1100.0       0.0     740.0   \n",
       "1      0  ...    70823.0    71006.0    70828.0    2527.0    2615.0    2500.0   \n",
       "2      0  ...   175557.0   178010.0   178976.0    7000.0    8000.0    8000.0   \n",
       "3      2  ...    21826.0    10208.0    10100.0    2200.0     568.0       0.0   \n",
       "4      0  ...    30480.0    31124.0    29333.0    2000.0    1600.0    1500.0   \n",
       "\n",
       "   PAY_AMT4  PAY_AMT5  PAY_AMT6  default.payment.next.month  \n",
       "0     890.0     740.0     740.0                           0  \n",
       "1    3000.0    2600.0    3000.0                           1  \n",
       "2    7001.0    6600.0    7000.0                           0  \n",
       "3     516.0     400.0     300.0                           1  \n",
       "4    1100.0    1053.0    1320.0                           1  \n",
       "\n",
       "[5 rows x 25 columns]"
      ]
     },
     "execution_count": 44,
     "metadata": {},
     "output_type": "execute_result"
    }
   ],
   "source": [
    "df.head()"
   ]
  },
  {
   "cell_type": "code",
   "execution_count": 45,
   "metadata": {},
   "outputs": [
    {
     "data": {
      "text/plain": [
       "array([[-1.10853671,  0.25529036,  0.80211307, ..., -0.25257156,\n",
       "        -0.27340802, -0.53289   ],\n",
       "       [ 0.24054019, -0.74832076,  0.80211307, ..., -0.14575257,\n",
       "        -0.13613122,  1.87655989],\n",
       "       [ 0.98117561,  0.10088865,  0.80211307, ...,  0.08396569,\n",
       "         0.10683656, -0.53289   ],\n",
       "       ...,\n",
       "       [ 1.12839422,  1.87650833, -1.24670703, ...,  0.24172471,\n",
       "         0.27247984, -0.53289   ],\n",
       "       [ 1.58414299,  2.18531175,  0.80211307, ..., -0.27267191,\n",
       "        -0.2946677 , -0.53289   ],\n",
       "       [ 0.12162389, -1.13432504,  0.80211307, ..., -0.25486875,\n",
       "        -0.28798609, -0.53289   ]])"
      ]
     },
     "execution_count": 45,
     "metadata": {},
     "output_type": "execute_result"
    }
   ],
   "source": [
    "preprocessorobj.fit_transform(df)"
   ]
  },
  {
   "cell_type": "code",
   "execution_count": 3,
   "metadata": {},
   "outputs": [],
   "source": [
    "def check(a):\n",
    "    return type(a)\n"
   ]
  },
  {
   "cell_type": "code",
   "execution_count": 4,
   "metadata": {},
   "outputs": [],
   "source": [
    "li=['A','B']"
   ]
  },
  {
   "cell_type": "code",
   "execution_count": 6,
   "metadata": {},
   "outputs": [],
   "source": [
    "l2=[]\n",
    "for i in li:\n",
    "    l2.append(check(i))"
   ]
  },
  {
   "cell_type": "code",
   "execution_count": 7,
   "metadata": {},
   "outputs": [
    {
     "data": {
      "text/plain": [
       "[str, str]"
      ]
     },
     "execution_count": 7,
     "metadata": {},
     "output_type": "execute_result"
    }
   ],
   "source": [
    "l2"
   ]
  },
  {
   "cell_type": "code",
   "execution_count": null,
   "metadata": {},
   "outputs": [],
   "source": []
  }
 ],
 "metadata": {
  "kernelspec": {
   "display_name": "Python 3.7.0 (conda)",
   "language": "python",
   "name": "python3"
  },
  "language_info": {
   "codemirror_mode": {
    "name": "ipython",
    "version": 3
   },
   "file_extension": ".py",
   "mimetype": "text/x-python",
   "name": "python",
   "nbconvert_exporter": "python",
   "pygments_lexer": "ipython3",
   "version": "3.7.0"
  },
  "orig_nbformat": 4,
  "vscode": {
   "interpreter": {
    "hash": "8af8ec1612c7a243de83dd7b288ecba9a2d9c439a6080c07e85955bf97c8517a"
   }
  }
 },
 "nbformat": 4,
 "nbformat_minor": 2
}
